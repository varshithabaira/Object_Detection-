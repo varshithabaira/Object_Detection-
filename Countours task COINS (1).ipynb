{
 "cells": [
  {
   "cell_type": "code",
   "execution_count": 2,
   "id": "afb086dc-b223-48f0-ad0f-4cc09196ff10",
   "metadata": {},
   "outputs": [],
   "source": [
    "import cv2 \n",
    "import numpy as np"
   ]
  },
  {
   "cell_type": "code",
   "execution_count": 10,
   "id": "e794787c-2911-4c75-acaa-a4bc00e8504a",
   "metadata": {},
   "outputs": [],
   "source": [
    "img = cv2.imread(r\"C:\\Users\\Varshitha\\Downloads\\coins.jpg\") \n",
    "img = cv2.resize(img,(500,500)) # Original image \n",
    "grey = cv2.cvtColor(img,cv2.COLOR_BGR2GRAY) #Converting the image into grey scale\n",
    "blur = cv2.GaussianBlur(grey,(5,5),1) # Bluring the image\n",
    "thresh = cv2.threshold(blur,200,255,cv2.THRESH_BINARY_INV)[1] #Converting into binary \n",
    "\n",
    "kernel = np.ones((3,3),np.uint8) \n",
    "dilate = cv2.morphologyEx(thresh,cv2.MORPH_DILATE,kernel,iterations = 1) #Performing dilation \n",
    "erode = cv2.morphologyEx(dilate,cv2.MORPH_ERODE,kernel,iterations=25) # Performing erosion\n",
    "final_mask = cv2.morphologyEx(erode,cv2.MORPH_DILATE,kernel,iterations=25) # Final dilation\n",
    "c,h =cv2.findContours(final_mask,cv2.RETR_EXTERNAL,cv2.CHAIN_APPROX_SIMPLE) #Finding the contours\n",
    "\n",
    "img1=img.copy()\n",
    "draw_count = cv2.drawContours(img1,c,-1,(255,0,0),2) #Drawing the contours\n",
    "\n",
    "# cv2.imshow(\"orginal\",img) \n",
    "# cv2.imshow(\"grey img\",grey) \n",
    "# cv2.imshow(\"blur img\",blur) \n",
    "# cv2.imshow(\"thresh\",thresh) \n",
    "# cv2.imshow(\"dilate\",dilate) \n",
    "# cv2.imshow(\"erosion\",erode) \n",
    "# cv2.imshow(\"finding counters\",img1) \n",
    "cv2.imshow(\"drawing counters\",draw_count) \n",
    "\n",
    "\n",
    "\n",
    "cv2.waitKey() \n",
    "cv2.destroyAllWindows()"
   ]
  },
  {
   "cell_type": "code",
   "execution_count": null,
   "id": "5527c245-183b-47b8-814e-a38a5ef02e27",
   "metadata": {},
   "outputs": [],
   "source": []
  }
 ],
 "metadata": {
  "kernelspec": {
   "display_name": "Python 3 (ipykernel)",
   "language": "python",
   "name": "python3"
  },
  "language_info": {
   "codemirror_mode": {
    "name": "ipython",
    "version": 3
   },
   "file_extension": ".py",
   "mimetype": "text/x-python",
   "name": "python",
   "nbconvert_exporter": "python",
   "pygments_lexer": "ipython3",
   "version": "3.12.7"
  }
 },
 "nbformat": 4,
 "nbformat_minor": 5
}
